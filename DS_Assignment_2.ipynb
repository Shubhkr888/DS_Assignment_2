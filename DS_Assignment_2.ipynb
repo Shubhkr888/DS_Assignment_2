{
  "nbformat": 4,
  "nbformat_minor": 0,
  "metadata": {
    "colab": {
      "provenance": []
    },
    "kernelspec": {
      "name": "python3",
      "display_name": "Python 3"
    },
    "language_info": {
      "name": "python"
    }
  },
  "cells": [
    {
      "cell_type": "code",
      "execution_count": 2,
      "metadata": {
        "id": "qVLVuSrJtONR"
      },
      "outputs": [],
      "source": [
        "#Q1\n",
        "class Solution(object):\n",
        "    def arrayPairSum(self, nums):\n",
        "        nums.sort()\n",
        "        result = 0\n",
        "        numsLen = len(nums)\n",
        "        for i in range(0, numsLen - 1, 2):\n",
        "            result += nums[i]\n",
        "        return result"
      ]
    },
    {
      "cell_type": "code",
      "source": [
        "#Q3\n",
        "class Solution(object):\n",
        "    def findLHS(self, nums):\n",
        "\n",
        "        numsLen, left, result = len(nums), 0, 0\n",
        "        nums = sorted(nums)\n",
        "        for i in range(numsLen):\n",
        "            while left < i and nums[i] - nums[left] > 1:\n",
        "                left += 1\n",
        "            if nums[i] - nums[left] == 1:\n",
        "                result = max(i - left + 1, result)\n",
        "        return result"
      ],
      "metadata": {
        "id": "majx_HRDtcFQ"
      },
      "execution_count": 6,
      "outputs": []
    },
    {
      "cell_type": "code",
      "source": [
        "#Q4\n",
        "def canPlaceFlowers(flowerbed, n):\n",
        "    # Length of the flowerbed array\n",
        "    length = len(flowerbed)\n",
        "\n",
        "    # Counter for the number of flowers that can be planted\n",
        "    count = 0\n",
        "\n",
        "    # Iterate through each plot in the flowerbed\n",
        "    for i in range(length):\n",
        "        # Check if current plot is empty\n",
        "        if flowerbed[i] == 0:\n",
        "            # Check the adjacent plots\n",
        "            prev = 0 if i == 0 else flowerbed[i - 1]\n",
        "            next = 0 if i == length - 1 else flowerbed[i + 1]\n",
        "\n",
        "            # If both adjacent plots are empty, plant a flower\n",
        "            if prev == 0 and next == 0:\n",
        "                flowerbed[i] = 1\n",
        "                count += 1\n",
        "\n",
        "    # Check if we can plant at least n flowers\n",
        "    return count >= n"
      ],
      "metadata": {
        "id": "kz3pczK0t0RV"
      },
      "execution_count": 7,
      "outputs": []
    },
    {
      "cell_type": "code",
      "source": [
        "#Q7\n",
        "def ismonotone(a):\n",
        "    n=len(a) #size of array\n",
        "    if n==1:\n",
        "        return True\n",
        "    else:\n",
        "        #check for monotone behaviour\n",
        "        if all(a[i]>=a[i+1] for i in range(0,n-1) or a[i]<=a[i+1] for i in range(0,n-1)):\n",
        "            return True\n",
        "        else:\n",
        "            return False\n",
        "\n",
        "A = [6, 5, 4, 2]\n",
        "print(ismonotone(A))\n",
        "b = [6, 2, 4, 2]\n",
        "print(ismonotone(b))\n",
        "c=[4,3,2]\n",
        "print(ismonotone(c))\n",
        "d=[1]\n",
        "print(ismonotone(d))"
      ],
      "metadata": {
        "colab": {
          "base_uri": "https://localhost:8080/"
        },
        "id": "GrrKKQAEuWfp",
        "outputId": "a6934c33-adba-42ff-b7e5-fc198d81cfee"
      },
      "execution_count": 8,
      "outputs": [
        {
          "output_type": "stream",
          "name": "stdout",
          "text": [
            "True\n",
            "False\n",
            "True\n",
            "True\n"
          ]
        }
      ]
    },
    {
      "cell_type": "code",
      "source": [
        "#Q8\n",
        "def morethanNbyK(arr, n, k):\n",
        "    x = n // k\n",
        "\n",
        "    # unordered_map initialization\n",
        "    freq = {}\n",
        "\n",
        "    for i in range(n):\n",
        "        if arr[i] in freq:\n",
        "            freq[arr[i]] += 1\n",
        "        else:\n",
        "            freq[arr[i]] = 1\n",
        "\n",
        "    # Traversing the map\n",
        "    for i in freq:\n",
        "\n",
        "        # Checking if value of a key-value pair\n",
        "        # is greater than x (where x=n/k)\n",
        "        if (freq[i] > x):\n",
        "\n",
        "            # Print the key of whose value\n",
        "            # is greater than x\n",
        "            print(i)\n",
        "\n",
        "\n",
        "# Driver code\n",
        "if __name__ == '__main__':\n",
        "    arr = [1, 1, 2, 2, 3, 5, 4, 2, 2, 3, 1, 1, 1]\n",
        "    n = len(arr)\n",
        "    k = 4\n",
        "\n",
        "    morethanNbyK(arr, n, k)"
      ],
      "metadata": {
        "colab": {
          "base_uri": "https://localhost:8080/"
        },
        "id": "Bbtuv7AAucmw",
        "outputId": "d8ceebbb-950d-4d11-e8fb-844be593eccb"
      },
      "execution_count": 9,
      "outputs": [
        {
          "output_type": "stream",
          "name": "stdout",
          "text": [
            "1\n",
            "2\n"
          ]
        }
      ]
    }
  ]
}